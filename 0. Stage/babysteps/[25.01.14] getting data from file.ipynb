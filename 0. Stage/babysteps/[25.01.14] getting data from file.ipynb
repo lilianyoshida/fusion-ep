version https://git-lfs.github.com/spec/v1
oid sha256:6d2e62327510b3e6bd1366579f5439641a8a62f3b182f11ac92f5d634c2ca0fe
size 14488
