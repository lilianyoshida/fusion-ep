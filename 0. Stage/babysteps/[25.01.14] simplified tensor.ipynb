version https://git-lfs.github.com/spec/v1
oid sha256:f03629dff9f7d931c221ef8e44bd0fa43882693b4efd7fb30d5ff2d4f1e6b9c6
size 651646
