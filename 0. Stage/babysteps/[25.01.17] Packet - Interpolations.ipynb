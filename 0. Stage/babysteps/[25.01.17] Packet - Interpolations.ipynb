version https://git-lfs.github.com/spec/v1
oid sha256:0d28e435bb7c2e4234ea108f3edc616a0493f89bc7d8a653da3b87e85107b908
size 250593967
