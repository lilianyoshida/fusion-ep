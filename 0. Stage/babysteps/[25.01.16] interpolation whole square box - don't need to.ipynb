version https://git-lfs.github.com/spec/v1
oid sha256:1ad82af6a9c21bf5781819fe2379dcff33f3069717ebac9bd947145a20ab4c9f
size 197101879
