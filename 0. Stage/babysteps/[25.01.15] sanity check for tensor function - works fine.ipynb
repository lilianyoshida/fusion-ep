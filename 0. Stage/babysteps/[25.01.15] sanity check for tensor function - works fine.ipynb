version https://git-lfs.github.com/spec/v1
oid sha256:f31261326dd68c036e8b91e43dd15823860b2ee381ffcaa8282524dc43dd95cc
size 81513
