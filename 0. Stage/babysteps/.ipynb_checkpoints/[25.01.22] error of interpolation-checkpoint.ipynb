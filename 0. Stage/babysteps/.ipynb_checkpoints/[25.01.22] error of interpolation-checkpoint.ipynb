version https://git-lfs.github.com/spec/v1
oid sha256:f48200c1f284001284c55480195067e654016b10703fb5c4dc5eda74f0d790ba
size 12155
