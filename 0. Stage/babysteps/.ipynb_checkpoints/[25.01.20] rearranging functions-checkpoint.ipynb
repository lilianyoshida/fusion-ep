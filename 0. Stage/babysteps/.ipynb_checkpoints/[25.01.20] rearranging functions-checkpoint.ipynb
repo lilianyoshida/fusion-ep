version https://git-lfs.github.com/spec/v1
oid sha256:87f444bee55fb22e1d51bba18dbe4718ecba3c566b1ad80dc4d468b1aeeef33d
size 18658121
