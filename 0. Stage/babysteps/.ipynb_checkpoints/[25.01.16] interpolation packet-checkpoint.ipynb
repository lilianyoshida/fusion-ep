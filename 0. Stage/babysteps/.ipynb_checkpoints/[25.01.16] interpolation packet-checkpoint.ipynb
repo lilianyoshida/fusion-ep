version https://git-lfs.github.com/spec/v1
oid sha256:56e4620ebf939bbd17e12a2431b11fa57824cceb9703161c3f01e8999598bfdd
size 6660632
