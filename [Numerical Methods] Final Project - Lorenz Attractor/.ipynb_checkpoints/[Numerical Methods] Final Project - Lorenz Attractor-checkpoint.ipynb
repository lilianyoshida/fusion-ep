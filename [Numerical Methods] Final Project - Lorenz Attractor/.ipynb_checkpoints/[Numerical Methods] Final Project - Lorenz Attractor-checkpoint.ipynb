version https://git-lfs.github.com/spec/v1
oid sha256:fed8a6660950c2313c42fe361f6fdbbc780ab255634d0b8f7c594c2016b0459e
size 342427
