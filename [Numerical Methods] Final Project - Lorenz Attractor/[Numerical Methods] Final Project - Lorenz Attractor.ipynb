version https://git-lfs.github.com/spec/v1
oid sha256:143f144ac8a7ccd5db62484695d65b928dbac5bc4ab80a3c88cfc141248a7ca3
size 342801
